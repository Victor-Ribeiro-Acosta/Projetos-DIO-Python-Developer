{
  "nbformat": 4,
  "nbformat_minor": 0,
  "metadata": {
    "colab": {
      "provenance": [],
      "authorship_tag": "ABX9TyOs8Mh0Nm9emYc6NQQuCfww",
      "include_colab_link": true
    },
    "kernelspec": {
      "name": "python3",
      "display_name": "Python 3"
    },
    "language_info": {
      "name": "python"
    }
  },
  "cells": [
    {
      "cell_type": "markdown",
      "metadata": {
        "id": "view-in-github",
        "colab_type": "text"
      },
      "source": [
        "<a href=\"https://colab.research.google.com/github/Victor-Ribeiro-Acosta/Projetos-DIO-Python-Developer/blob/main/Atividades/Atividades_com_frameworks/Projeto_Aplica%C3%A7%C3%A3o_SQLite.ipynb\" target=\"_parent\"><img src=\"https://colab.research.google.com/assets/colab-badge.svg\" alt=\"Open In Colab\"/></a>"
      ]
    },
    {
      "cell_type": "markdown",
      "source": [
        "Desafio 1: integrando ao banco relacional SQLite"
      ],
      "metadata": {
        "id": "1ZvBIBM1Ews9"
      }
    },
    {
      "cell_type": "code",
      "execution_count": null,
      "metadata": {
        "id": "C3W_HesTEel-"
      },
      "outputs": [],
      "source": [
        "!pip install sqlalchemy"
      ]
    },
    {
      "cell_type": "code",
      "source": [
        "\n",
        "from sqlalchemy.orm import declarative_base\n",
        "from sqlalchemy.orm import relationship\n",
        "from sqlalchemy.orm import Session\n",
        "\n",
        "from sqlalchemy import Column\n",
        "from sqlalchemy import String\n",
        "from sqlalchemy import Integer\n",
        "from sqlalchemy import Float\n",
        "from sqlalchemy import ForeignKey\n",
        "from sqlalchemy import select\n",
        "\n",
        "from sqlalchemy import create_engine\n",
        "\n",
        "\n",
        "from random import randint\n",
        "\n",
        "\n",
        "base = declarative_base()\n",
        "\n",
        "class Cliente(base):\n",
        "\n",
        "  __tablename__ = 'Cliente'\n",
        "\n",
        "  id = Column(Integer, primary_key = True, autoincrement = True)\n",
        "  nome = Column(String)\n",
        "  cpf = Column(String(11))\n",
        "  endereco = Column(String)\n",
        "\n",
        "  conta = relationship('Conta', back_populates = 'cliente', cascade = 'all, delete-orphan')\n",
        "\n",
        "  def __repr__(self):\n",
        "    return f\"Cliente(id - {self.id}, nome - {self.nome}, cpf - {self.cpf}, endereço - {self.endereco})\"\n",
        "\n",
        "\n",
        "class Conta(base):\n",
        "\n",
        "  __tablename__ = \"Contas_Bancarias\"\n",
        "\n",
        "  id = Column(Integer, primary_key = True, autoincrement = True)\n",
        "  id_cliente = Column(Integer, ForeignKey('Cliente.id'))\n",
        "  numero = Column(String)\n",
        "  agencia = Column(String)\n",
        "  tipo = Column(String)\n",
        "  saldo = Column(Float)\n",
        "\n",
        "  cliente = relationship('Cliente', back_populates = 'conta')\n",
        "\n",
        "  def __repr__(self):\n",
        "    return f\"Conta(número - {self.numero}, agência - {self.agencia}, tipo - {self.tipo}, saldo - {self.saldo})\"\n",
        "\n",
        "\n",
        "engine = create_engine(\"sqlite:///:Banco_dados\")\n",
        "base.metadata.create_all(engine)\n",
        "\n",
        "######################################################################\n",
        "\n",
        "def criar_numero_conta():\n",
        "\n",
        "  lista_numeros = []\n",
        "  for numero in range(8):\n",
        "    if numero == 6:\n",
        "      lista_numeros.append('-')\n",
        "    else:\n",
        "      lista_numeros.append(str(randint(0,9)))\n",
        "\n",
        "  return ''.join(lista_numeros)\n",
        "\n",
        "\n",
        "agencias = {'São Paulo': '4456-1', 'Campinas': '4456-2', 'Piracicapa': '4456-3',\n",
        "            'Porto Alegre': '4455-1', 'Caxias do Sul': '4455-2',\n",
        "            'Rio de Janeiro': '4457-1', 'Cabo Frio':'4457-1'}\n",
        "######################################################################\n",
        "\n",
        "menu = \"\"\"\n",
        "[1] - Cadastrar cliente\n",
        "[2] - Consultar\n",
        "[3] - sair\n",
        "\n",
        "informe sua ação desejada\n",
        "\"\"\"\n",
        "\n",
        "################################################################\n",
        "\n",
        "        # Sistema Principal\n",
        "\n",
        "operacao = int(input(menu))\n",
        "\n",
        "if operacao == 1:\n",
        "\n",
        "  nome = str(input('Digite seu nome completo: '))\n",
        "  cpf = str(input('Digite seu cpf: '))\n",
        "  endereco = str(input('Digite seu endereço completo: '))\n",
        "  tipo_conta = str(input('Informe o tipo de conta [corrente ou poupança]: '))\n",
        "  cidade = str(input('Digite sua cidade: '))\n",
        "\n",
        "  if cidade not in agencias.keys():\n",
        "    print('Não há agencias disponíveis na cidade indicada.')\n",
        "\n",
        "  else:\n",
        "\n",
        "    agencia = agencias[cidade]\n",
        "\n",
        "    with Session(engine) as sessao:\n",
        "      cliente_banco = Cliente(\n",
        "          nome = nome,\n",
        "          cpf = cpf,\n",
        "          endereco = endereco,\n",
        "\n",
        "          conta = Conta(numero = criar_numero_conta(),\n",
        "                        agencia = agencia,\n",
        "                        tipo = tipo_conta,\n",
        "                        saldo = 1000.0)\n",
        "        )\n",
        "\n",
        "      sessao.add_all([cliente_banco])\n",
        "      sessao.commit()\n",
        "      sessao.close()\n",
        "\n",
        "elif operacao == 2:\n",
        "\n",
        "  cpf = str('Informe seu cpf')\n",
        "\n",
        "  with Session(engine) as sessao:\n",
        "    consulta = select(Cliente.nome, Cliente.cpf, Conta.numero, Conta.agencia, Conta.tipo).join_from(Cliente, Conta).where(Conta.cpf.in_(cpf))\n",
        "    for resultados in sessao.scalars(consulta):\n",
        "      print(resultados)\n",
        "    sessao.close()\n"
      ],
      "metadata": {
        "id": "OXTAnbPQF_MG"
      },
      "execution_count": null,
      "outputs": []
    }
  ]
}